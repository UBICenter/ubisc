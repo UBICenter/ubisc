{
 "cells": [
  {
   "cell_type": "markdown",
   "metadata": {},
   "source": [
    "# Load UBISc Data\n",
    "\n",
    "Loads bills, sponsorships, and votes from Openstates, and exports to Bigquery."
   ]
  },
  {
   "cell_type": "code",
   "execution_count": 1,
   "metadata": {
    "collapsed": false
   },
   "outputs": [
    {
     "data": {
      "text/html": [
       "\n",
       "          <script src=\"/static/components/requirejs/require.js\"></script>\n",
       "          <script>\n",
       "            requirejs.config({\n",
       "              paths: {\n",
       "                base: '/static/base',\n",
       "              },\n",
       "            });\n",
       "          </script>\n",
       "          "
      ],
      "text/plain": [
       "<IPython.core.display.HTML object>"
      ]
     },
     "metadata": {},
     "output_type": "display_data"
    },
    {
     "name": "stdout",
     "output_type": "stream",
     "text": [
      "Collecting pyopenstates\n",
      "  Using cached pyopenstates-1.1.0-py2.py3-none-any.whl\n",
      "Requirement already satisfied: requests in /usr/local/lib/python2.7/dist-packages (from pyopenstates)\n",
      "Installing collected packages: pyopenstates\n",
      "Successfully installed pyopenstates-1.1.0\n"
     ]
    }
   ],
   "source": [
    "!pip install pyopenstates"
   ]
  },
  {
   "cell_type": "code",
   "execution_count": 2,
   "metadata": {
    "collapsed": false
   },
   "outputs": [
    {
     "data": {
      "text/html": [
       "\n",
       "          <script src=\"/static/components/requirejs/require.js\"></script>\n",
       "          <script>\n",
       "            requirejs.config({\n",
       "              paths: {\n",
       "                base: '/static/base',\n",
       "              },\n",
       "            });\n",
       "          </script>\n",
       "          "
      ],
      "text/plain": [
       "<IPython.core.display.HTML object>"
      ]
     },
     "metadata": {},
     "output_type": "display_data"
    }
   ],
   "source": [
    "import pyopenstates\n",
    "import pandas as pd\n",
    "from pandas.io.json import json_normalize"
   ]
  },
  {
   "cell_type": "code",
   "execution_count": 3,
   "metadata": {
    "collapsed": false
   },
   "outputs": [
    {
     "data": {
      "text/html": [
       "\n",
       "          <script src=\"/static/components/requirejs/require.js\"></script>\n",
       "          <script>\n",
       "            requirejs.config({\n",
       "              paths: {\n",
       "                base: '/static/base',\n",
       "              },\n",
       "            });\n",
       "          </script>\n",
       "          "
      ],
      "text/plain": [
       "<IPython.core.display.HTML object>"
      ]
     },
     "metadata": {},
     "output_type": "display_data"
    }
   ],
   "source": [
    "pyopenstates.set_api_key('b6e279fd-5dd2-4bdf-b5f5-0520748f8f11')"
   ]
  },
  {
   "cell_type": "markdown",
   "metadata": {},
   "source": [
    "List search queries.\n",
    "\n",
    "eic is omitted as it primarily [yields](https://openstates.org/api/v1/bills/?q=eic&apikey=b6e279fd-5dd2-4bdf-b5f5-0520748f8f11) Spanish-language bills from Puerto Rico."
   ]
  },
  {
   "cell_type": "markdown",
   "metadata": {},
   "source": [
    "TODO: Create mechanism to add specific bills."
   ]
  },
  {
   "cell_type": "code",
   "execution_count": 4,
   "metadata": {
    "collapsed": false
   },
   "outputs": [
    {
     "data": {
      "text/html": [
       "\n",
       "          <script src=\"/static/components/requirejs/require.js\"></script>\n",
       "          <script>\n",
       "            requirejs.config({\n",
       "              paths: {\n",
       "                base: '/static/base',\n",
       "              },\n",
       "            });\n",
       "          </script>\n",
       "          "
      ],
      "text/plain": [
       "<IPython.core.display.HTML object>"
      ]
     },
     "metadata": {},
     "output_type": "display_data"
    }
   ],
   "source": [
    "queries = ['earned income credit', 'earned income tax credit', 'eitc',\n",
    "           'child tax credit', 'ctc', 'cdctc', \n",
    "           'basic income', 'negative income tax',\n",
    "           # For Hawaii's HCR89 bill mandating research into UBI.\n",
    "           'Basic Economic Security',\n",
    "           # For California's carbon dividend proposal, SB775 (17 false positives).\n",
    "           'market-based compliance mechanisms',\n",
    "           # Colorado's EITC.\n",
    "           'Colorado Working Families Economic Opportunity Act']\n",
    "bill_fields = ['id', 'state', 'session', 'bill_id', 'title', 'created_at']\n",
    "all_fields = list(bill_fields)\n",
    "all_fields.append('sponsors')"
   ]
  },
  {
   "cell_type": "code",
   "execution_count": 5,
   "metadata": {
    "collapsed": false
   },
   "outputs": [
    {
     "data": {
      "text/html": [
       "\n",
       "          <script src=\"/static/components/requirejs/require.js\"></script>\n",
       "          <script>\n",
       "            requirejs.config({\n",
       "              paths: {\n",
       "                base: '/static/base',\n",
       "              },\n",
       "            });\n",
       "          </script>\n",
       "          "
      ],
      "text/plain": [
       "<IPython.core.display.HTML object>"
      ]
     },
     "metadata": {},
     "output_type": "display_data"
    },
    {
     "name": "stdout",
     "output_type": "stream",
     "text": [
      "earned income credit\n",
      "earned income tax credit\n",
      "eitc\n",
      "child tax credit\n",
      "ctc\n",
      "cdctc\n",
      "basic income\n",
      "negative income tax\n",
      "Basic Economic Security\n",
      "market-based compliance mechanisms\n",
      "Colorado Working Families Economic Opportunity Act\n"
     ]
    }
   ],
   "source": [
    "bills = pd.DataFrame()\n",
    "sponsorships = pd.DataFrame()\n",
    "for i in queries:\n",
    "    print i\n",
    "    tmp_bills_json = pyopenstates.search_bills(q=i,  fields=all_fields)\n",
    "    tmp_bills = pd.DataFrame(tmp_bills_json)\n",
    "    tmp_bills['query'] = i\n",
    "    # Ignore errors since some queries may not return bills with sponsors.\n",
    "    bills = pd.concat([bills, tmp_bills.drop('sponsors', axis=1, errors='ignore')])\n",
    "    tmp_sponsorships = json_normalize(tmp_bills_json, 'sponsors', 'id')\n",
    "    sponsorships = pd.concat([sponsorships, tmp_sponsorships])"
   ]
  },
  {
   "cell_type": "markdown",
   "metadata": {},
   "source": [
    "Why the extra fields?"
   ]
  },
  {
   "cell_type": "code",
   "execution_count": 6,
   "metadata": {
    "collapsed": false
   },
   "outputs": [
    {
     "data": {
      "text/html": [
       "\n",
       "          <script src=\"/static/components/requirejs/require.js\"></script>\n",
       "          <script>\n",
       "            requirejs.config({\n",
       "              paths: {\n",
       "                base: '/static/base',\n",
       "              },\n",
       "            });\n",
       "          </script>\n",
       "          "
      ],
      "text/plain": [
       "<IPython.core.display.HTML object>"
      ]
     },
     "metadata": {},
     "output_type": "display_data"
    }
   ],
   "source": [
    "sponsorships = sponsorships[['id', 'leg_id', 'name', 'type']]"
   ]
  },
  {
   "cell_type": "code",
   "execution_count": 7,
   "metadata": {
    "collapsed": false
   },
   "outputs": [
    {
     "data": {
      "text/html": [
       "\n",
       "          <script src=\"/static/components/requirejs/require.js\"></script>\n",
       "          <script>\n",
       "            requirejs.config({\n",
       "              paths: {\n",
       "                base: '/static/base',\n",
       "              },\n",
       "            });\n",
       "          </script>\n",
       "          "
      ],
      "text/plain": [
       "<IPython.core.display.HTML object>"
      ]
     },
     "metadata": {},
     "output_type": "display_data"
    },
    {
     "data": {
      "text/html": [
       "<div>\n",
       "<table border=\"1\" class=\"dataframe\">\n",
       "  <thead>\n",
       "    <tr style=\"text-align: right;\">\n",
       "      <th></th>\n",
       "      <th>id</th>\n",
       "      <th>leg_id</th>\n",
       "      <th>name</th>\n",
       "      <th>type</th>\n",
       "    </tr>\n",
       "  </thead>\n",
       "  <tbody>\n",
       "    <tr>\n",
       "      <th>0</th>\n",
       "      <td>MAB00024531</td>\n",
       "      <td>MAL000451</td>\n",
       "      <td>Marjorie C. Decker</td>\n",
       "      <td>primary</td>\n",
       "    </tr>\n",
       "    <tr>\n",
       "      <th>1</th>\n",
       "      <td>MAB00024531</td>\n",
       "      <td>MAL000499</td>\n",
       "      <td>Steven Ultrino</td>\n",
       "      <td>cosponsor</td>\n",
       "    </tr>\n",
       "    <tr>\n",
       "      <th>2</th>\n",
       "      <td>MAB00024531</td>\n",
       "      <td>MAL000456</td>\n",
       "      <td>Jay R. Kaufman</td>\n",
       "      <td>cosponsor</td>\n",
       "    </tr>\n",
       "    <tr>\n",
       "      <th>3</th>\n",
       "      <td>MAB00024531</td>\n",
       "      <td>MAL000557</td>\n",
       "      <td>Leonard Mirra</td>\n",
       "      <td>cosponsor</td>\n",
       "    </tr>\n",
       "    <tr>\n",
       "      <th>4</th>\n",
       "      <td>MAB00024531</td>\n",
       "      <td>MAL000452</td>\n",
       "      <td>Jack Lewis</td>\n",
       "      <td>cosponsor</td>\n",
       "    </tr>\n",
       "  </tbody>\n",
       "</table>\n",
       "</div>"
      ],
      "text/plain": [
       "            id     leg_id                name       type\n",
       "0  MAB00024531  MAL000451  Marjorie C. Decker    primary\n",
       "1  MAB00024531  MAL000499      Steven Ultrino  cosponsor\n",
       "2  MAB00024531  MAL000456      Jay R. Kaufman  cosponsor\n",
       "3  MAB00024531  MAL000557       Leonard Mirra  cosponsor\n",
       "4  MAB00024531  MAL000452          Jack Lewis  cosponsor"
      ]
     },
     "execution_count": 7,
     "metadata": {},
     "output_type": "execute_result"
    }
   ],
   "source": [
    "sponsorships[:5]"
   ]
  },
  {
   "cell_type": "code",
   "execution_count": 8,
   "metadata": {
    "collapsed": false
   },
   "outputs": [
    {
     "data": {
      "text/html": [
       "\n",
       "          <script src=\"/static/components/requirejs/require.js\"></script>\n",
       "          <script>\n",
       "            requirejs.config({\n",
       "              paths: {\n",
       "                base: '/static/base',\n",
       "              },\n",
       "            });\n",
       "          </script>\n",
       "          "
      ],
      "text/plain": [
       "<IPython.core.display.HTML object>"
      ]
     },
     "metadata": {},
     "output_type": "display_data"
    },
    {
     "data": {
      "text/plain": [
       "(3340, 4)"
      ]
     },
     "execution_count": 8,
     "metadata": {},
     "output_type": "execute_result"
    }
   ],
   "source": [
    "sponsorships.shape"
   ]
  },
  {
   "cell_type": "code",
   "execution_count": 9,
   "metadata": {
    "collapsed": false
   },
   "outputs": [
    {
     "data": {
      "text/html": [
       "\n",
       "          <script src=\"/static/components/requirejs/require.js\"></script>\n",
       "          <script>\n",
       "            requirejs.config({\n",
       "              paths: {\n",
       "                base: '/static/base',\n",
       "              },\n",
       "            });\n",
       "          </script>\n",
       "          "
      ],
      "text/plain": [
       "<IPython.core.display.HTML object>"
      ]
     },
     "metadata": {},
     "output_type": "display_data"
    },
    {
     "data": {
      "text/plain": [
       "(506, 7)"
      ]
     },
     "execution_count": 9,
     "metadata": {},
     "output_type": "execute_result"
    }
   ],
   "source": [
    "bills.shape"
   ]
  },
  {
   "cell_type": "code",
   "execution_count": 10,
   "metadata": {
    "collapsed": false
   },
   "outputs": [
    {
     "data": {
      "text/html": [
       "\n",
       "          <script src=\"/static/components/requirejs/require.js\"></script>\n",
       "          <script>\n",
       "            requirejs.config({\n",
       "              paths: {\n",
       "                base: '/static/base',\n",
       "              },\n",
       "            });\n",
       "          </script>\n",
       "          "
      ],
      "text/plain": [
       "<IPython.core.display.HTML object>"
      ]
     },
     "metadata": {},
     "output_type": "display_data"
    },
    {
     "data": {
      "text/html": [
       "<div>\n",
       "<table border=\"1\" class=\"dataframe\">\n",
       "  <thead>\n",
       "    <tr style=\"text-align: right;\">\n",
       "      <th></th>\n",
       "      <th>bill_id</th>\n",
       "      <th>created_at</th>\n",
       "      <th>id</th>\n",
       "      <th>query</th>\n",
       "      <th>session</th>\n",
       "      <th>state</th>\n",
       "      <th>title</th>\n",
       "    </tr>\n",
       "  </thead>\n",
       "  <tbody>\n",
       "    <tr>\n",
       "      <th>16</th>\n",
       "      <td>AB 1906</td>\n",
       "      <td>2012-02-24 02:06:18</td>\n",
       "      <td>CAB00008585</td>\n",
       "      <td>market-based compliance mechanisms</td>\n",
       "      <td>20112012</td>\n",
       "      <td>ca</td>\n",
       "      <td>California Global Warming Solutions Act of 200...</td>\n",
       "    </tr>\n",
       "    <tr>\n",
       "      <th>17</th>\n",
       "      <td>SB 864</td>\n",
       "      <td>2011-03-24 20:45:17</td>\n",
       "      <td>CAB00006137</td>\n",
       "      <td>market-based compliance mechanisms</td>\n",
       "      <td>20112012</td>\n",
       "      <td>ca</td>\n",
       "      <td>Emissions of greenhouse gases: market-based co...</td>\n",
       "    </tr>\n",
       "    <tr>\n",
       "      <th>0</th>\n",
       "      <td>SB 13-001</td>\n",
       "      <td>2013-01-10 00:10:21</td>\n",
       "      <td>COB00001394</td>\n",
       "      <td>Colorado Working Families Economic Opportunity...</td>\n",
       "      <td>2013A</td>\n",
       "      <td>co</td>\n",
       "      <td>Colorado Working Families Economic Opportunity...</td>\n",
       "    </tr>\n",
       "  </tbody>\n",
       "</table>\n",
       "</div>"
      ],
      "text/plain": [
       "      bill_id          created_at           id  \\\n",
       "16    AB 1906 2012-02-24 02:06:18  CAB00008585   \n",
       "17     SB 864 2011-03-24 20:45:17  CAB00006137   \n",
       "0   SB 13-001 2013-01-10 00:10:21  COB00001394   \n",
       "\n",
       "                                                query   session state  \\\n",
       "16                 market-based compliance mechanisms  20112012    ca   \n",
       "17                 market-based compliance mechanisms  20112012    ca   \n",
       "0   Colorado Working Families Economic Opportunity...     2013A    co   \n",
       "\n",
       "                                                title  \n",
       "16  California Global Warming Solutions Act of 200...  \n",
       "17  Emissions of greenhouse gases: market-based co...  \n",
       "0   Colorado Working Families Economic Opportunity...  "
      ]
     },
     "execution_count": 10,
     "metadata": {},
     "output_type": "execute_result"
    }
   ],
   "source": [
    "bills.tail(3)"
   ]
  },
  {
   "cell_type": "markdown",
   "metadata": {},
   "source": [
    "Deduplicate bills with multiple search queries."
   ]
  },
  {
   "cell_type": "code",
   "execution_count": 11,
   "metadata": {
    "collapsed": false
   },
   "outputs": [
    {
     "data": {
      "text/html": [
       "\n",
       "          <script src=\"/static/components/requirejs/require.js\"></script>\n",
       "          <script>\n",
       "            requirejs.config({\n",
       "              paths: {\n",
       "                base: '/static/base',\n",
       "              },\n",
       "            });\n",
       "          </script>\n",
       "          "
      ],
      "text/plain": [
       "<IPython.core.display.HTML object>"
      ]
     },
     "metadata": {},
     "output_type": "display_data"
    }
   ],
   "source": [
    "dedup = pd.DataFrame({'queries' : bills.groupby(bill_fields)['query'].apply(lambda x: \"{%s}\" % ', '.join(x))}).reset_index()"
   ]
  },
  {
   "cell_type": "code",
   "execution_count": 12,
   "metadata": {
    "collapsed": false
   },
   "outputs": [
    {
     "data": {
      "text/html": [
       "\n",
       "          <script src=\"/static/components/requirejs/require.js\"></script>\n",
       "          <script>\n",
       "            requirejs.config({\n",
       "              paths: {\n",
       "                base: '/static/base',\n",
       "              },\n",
       "            });\n",
       "          </script>\n",
       "          "
      ],
      "text/plain": [
       "<IPython.core.display.HTML object>"
      ]
     },
     "metadata": {},
     "output_type": "display_data"
    },
    {
     "data": {
      "text/html": [
       "<div>\n",
       "<table border=\"1\" class=\"dataframe\">\n",
       "  <thead>\n",
       "    <tr style=\"text-align: right;\">\n",
       "      <th></th>\n",
       "      <th>queries</th>\n",
       "      <th>0</th>\n",
       "    </tr>\n",
       "  </thead>\n",
       "  <tbody>\n",
       "    <tr>\n",
       "      <th>8</th>\n",
       "      <td>{earned income tax credit}</td>\n",
       "      <td>324</td>\n",
       "    </tr>\n",
       "    <tr>\n",
       "      <th>6</th>\n",
       "      <td>{earned income credit}</td>\n",
       "      <td>93</td>\n",
       "    </tr>\n",
       "    <tr>\n",
       "      <th>4</th>\n",
       "      <td>{ctc}</td>\n",
       "      <td>23</td>\n",
       "    </tr>\n",
       "    <tr>\n",
       "      <th>10</th>\n",
       "      <td>{market-based compliance mechanisms}</td>\n",
       "      <td>18</td>\n",
       "    </tr>\n",
       "    <tr>\n",
       "      <th>9</th>\n",
       "      <td>{eitc}</td>\n",
       "      <td>17</td>\n",
       "    </tr>\n",
       "    <tr>\n",
       "      <th>5</th>\n",
       "      <td>{earned income credit, earned income tax credit}</td>\n",
       "      <td>8</td>\n",
       "    </tr>\n",
       "    <tr>\n",
       "      <th>3</th>\n",
       "      <td>{child tax credit}</td>\n",
       "      <td>7</td>\n",
       "    </tr>\n",
       "    <tr>\n",
       "      <th>0</th>\n",
       "      <td>{Basic Economic Security}</td>\n",
       "      <td>2</td>\n",
       "    </tr>\n",
       "    <tr>\n",
       "      <th>7</th>\n",
       "      <td>{earned income tax credit, eitc}</td>\n",
       "      <td>2</td>\n",
       "    </tr>\n",
       "    <tr>\n",
       "      <th>1</th>\n",
       "      <td>{Colorado Working Families Economic Opportunit...</td>\n",
       "      <td>1</td>\n",
       "    </tr>\n",
       "    <tr>\n",
       "      <th>2</th>\n",
       "      <td>{basic income}</td>\n",
       "      <td>1</td>\n",
       "    </tr>\n",
       "  </tbody>\n",
       "</table>\n",
       "</div>"
      ],
      "text/plain": [
       "                                              queries    0\n",
       "8                          {earned income tax credit}  324\n",
       "6                              {earned income credit}   93\n",
       "4                                               {ctc}   23\n",
       "10               {market-based compliance mechanisms}   18\n",
       "9                                              {eitc}   17\n",
       "5    {earned income credit, earned income tax credit}    8\n",
       "3                                  {child tax credit}    7\n",
       "0                           {Basic Economic Security}    2\n",
       "7                    {earned income tax credit, eitc}    2\n",
       "1   {Colorado Working Families Economic Opportunit...    1\n",
       "2                                      {basic income}    1"
      ]
     },
     "execution_count": 12,
     "metadata": {},
     "output_type": "execute_result"
    }
   ],
   "source": [
    "pd.DataFrame(dedup.groupby('queries').size()).reset_index().sort_values(0, ascending=False)"
   ]
  },
  {
   "cell_type": "markdown",
   "metadata": {},
   "source": [
    "Strip timestamp from `created_at` for better exporting to Sheets (via Bigquery)."
   ]
  },
  {
   "cell_type": "code",
   "execution_count": 13,
   "metadata": {
    "collapsed": false
   },
   "outputs": [
    {
     "data": {
      "text/html": [
       "\n",
       "          <script src=\"/static/components/requirejs/require.js\"></script>\n",
       "          <script>\n",
       "            requirejs.config({\n",
       "              paths: {\n",
       "                base: '/static/base',\n",
       "              },\n",
       "            });\n",
       "          </script>\n",
       "          "
      ],
      "text/plain": [
       "<IPython.core.display.HTML object>"
      ]
     },
     "metadata": {},
     "output_type": "display_data"
    }
   ],
   "source": [
    "dedup['created_at'] = dedup['created_at'].dt.strftime('%Y-%m-%d')"
   ]
  },
  {
   "cell_type": "markdown",
   "metadata": {},
   "source": [
    "Add openstates URL"
   ]
  },
  {
   "cell_type": "code",
   "execution_count": 14,
   "metadata": {
    "collapsed": false
   },
   "outputs": [
    {
     "data": {
      "text/html": [
       "\n",
       "          <script src=\"/static/components/requirejs/require.js\"></script>\n",
       "          <script>\n",
       "            requirejs.config({\n",
       "              paths: {\n",
       "                base: '/static/base',\n",
       "              },\n",
       "            });\n",
       "          </script>\n",
       "          "
      ],
      "text/plain": [
       "<IPython.core.display.HTML object>"
      ]
     },
     "metadata": {},
     "output_type": "display_data"
    }
   ],
   "source": [
    "dedup['openstates_url'] = 'https://openstates.org/' + dedup['state'] + '/bills/' + dedup['session'] + '/' + dedup['bill_id']"
   ]
  },
  {
   "cell_type": "markdown",
   "metadata": {},
   "source": [
    "Export to BigQuery."
   ]
  },
  {
   "cell_type": "code",
   "execution_count": 15,
   "metadata": {
    "collapsed": false
   },
   "outputs": [
    {
     "data": {
      "text/html": [
       "\n",
       "          <script src=\"/static/components/requirejs/require.js\"></script>\n",
       "          <script>\n",
       "            requirejs.config({\n",
       "              paths: {\n",
       "                base: '/static/base',\n",
       "              },\n",
       "            });\n",
       "          </script>\n",
       "          "
      ],
      "text/plain": [
       "<IPython.core.display.HTML object>"
      ]
     },
     "metadata": {},
     "output_type": "display_data"
    }
   ],
   "source": [
    "from datalab.context import Context\n",
    "import google.datalab.storage as storage\n",
    "import datalab.bigquery as bq"
   ]
  },
  {
   "cell_type": "markdown",
   "metadata": {},
   "source": [
    "TODO: Use this function once the [magics SO question](https://stackoverflow.com/q/46722938/1840471) is resolved."
   ]
  },
  {
   "cell_type": "code",
   "execution_count": 22,
   "metadata": {
    "collapsed": false
   },
   "outputs": [
    {
     "data": {
      "text/html": [
       "\n",
       "          <script src=\"/static/components/requirejs/require.js\"></script>\n",
       "          <script>\n",
       "            requirejs.config({\n",
       "              paths: {\n",
       "                base: '/static/base',\n",
       "              },\n",
       "            });\n",
       "          </script>\n",
       "          "
      ],
      "text/plain": [
       "<IPython.core.display.HTML object>"
      ]
     },
     "metadata": {},
     "output_type": "display_data"
    }
   ],
   "source": [
    "def write_bq(df, bucket_name, bigquery_table_name, bigquery_dataset_name):\n",
    "    full_bucket_name = Context.default().project_id + '-' + bucket_name\n",
    "    bucket_path = 'gs://' + full_bucket_name\n",
    "    bucket_object = bucket_path + '/' + bucket_name + '.txt'\n",
    "\n",
    "    # Define storage bucket\n",
    "    bucket = storage.Bucket(full_bucket_name)\n",
    "\n",
    "    # Create storage bucket if it does not exist\n",
    "    if not bucket.exists():\n",
    "        bucket.create()\n",
    "\n",
    "    # Define BigQuery dataset and table\n",
    "    dataset = bq.Dataset(bigquery_dataset_name)\n",
    "    table = bq.Table(bigquery_dataset_name + '.' + bigquery_table_name)\n",
    "\n",
    "    # Create BigQuery dataset\n",
    "    if not dataset.exists():\n",
    "        dataset.create()\n",
    "\n",
    "    # Create or overwrite the existing table if it exists\n",
    "    table_schema = bq.Schema.from_dataframe(df)\n",
    "    table.create(schema = table_schema, overwrite = True)\n",
    "\n",
    "    # Write the DataFrame to GCS (Google Cloud Storage)\n",
    "    obj = bucket.object(bucket_object)\n",
    "    obj.write_stream(df)\n",
    "    #%storage write --variable df --object $bucket_object\n",
    "\n",
    "    # Write the DataFrame to a BigQuery table\n",
    "    table.insert_data(df)"
   ]
  },
  {
   "cell_type": "code",
   "execution_count": 23,
   "metadata": {
    "collapsed": false
   },
   "outputs": [
    {
     "data": {
      "text/html": [
       "\n",
       "          <script src=\"/static/components/requirejs/require.js\"></script>\n",
       "          <script>\n",
       "            requirejs.config({\n",
       "              paths: {\n",
       "                base: '/static/base',\n",
       "              },\n",
       "            });\n",
       "          </script>\n",
       "          "
      ],
      "text/plain": [
       "<IPython.core.display.HTML object>"
      ]
     },
     "metadata": {},
     "output_type": "display_data"
    }
   ],
   "source": [
    "# Params (would be function args).\n",
    "df = dedup\n",
    "bucket_name = 'openstates-bills'\n",
    "bigquery_table_name = 'OpenstatesBills' \n",
    "bigquery_dataset_name = 'ubisc'"
   ]
  },
  {
   "cell_type": "code",
   "execution_count": 24,
   "metadata": {
    "collapsed": false
   },
   "outputs": [
    {
     "data": {
      "text/html": [
       "\n",
       "          <script src=\"/static/components/requirejs/require.js\"></script>\n",
       "          <script>\n",
       "            requirejs.config({\n",
       "              paths: {\n",
       "                base: '/static/base',\n",
       "              },\n",
       "            });\n",
       "          </script>\n",
       "          "
      ],
      "text/plain": [
       "<IPython.core.display.HTML object>"
      ]
     },
     "metadata": {},
     "output_type": "display_data"
    },
    {
     "ename": "TypeError",
     "evalue": "write_stream() takes exactly 3 arguments (2 given)",
     "output_type": "error",
     "traceback": [
      "\u001b[0;31m\u001b[0m",
      "\u001b[0;31mTypeError\u001b[0mTraceback (most recent call last)",
      "\u001b[0;32m<ipython-input-24-c57cd0d4ab05>\u001b[0m in \u001b[0;36m<module>\u001b[0;34m()\u001b[0m\n\u001b[0;32m----> 1\u001b[0;31m \u001b[0mwrite_bq\u001b[0m\u001b[0;34m(\u001b[0m\u001b[0mdf\u001b[0m\u001b[0;34m,\u001b[0m \u001b[0mbucket_name\u001b[0m\u001b[0;34m,\u001b[0m \u001b[0mbigquery_table_name\u001b[0m\u001b[0;34m,\u001b[0m \u001b[0mbigquery_dataset_name\u001b[0m\u001b[0;34m)\u001b[0m\u001b[0;34m\u001b[0m\u001b[0m\n\u001b[0m",
      "\u001b[0;32m<ipython-input-22-be7e949a1aa6>\u001b[0m in \u001b[0;36mwrite_bq\u001b[0;34m(df, bucket_name, bigquery_table_name, bigquery_dataset_name)\u001b[0m\n\u001b[1;32m     25\u001b[0m     \u001b[0;31m# Write the DataFrame to GCS (Google Cloud Storage)\u001b[0m\u001b[0;34m\u001b[0m\u001b[0;34m\u001b[0m\u001b[0m\n\u001b[1;32m     26\u001b[0m     \u001b[0mobj\u001b[0m \u001b[0;34m=\u001b[0m \u001b[0mbucket\u001b[0m\u001b[0;34m.\u001b[0m\u001b[0mobject\u001b[0m\u001b[0;34m(\u001b[0m\u001b[0mbucket_object\u001b[0m\u001b[0;34m)\u001b[0m\u001b[0;34m\u001b[0m\u001b[0m\n\u001b[0;32m---> 27\u001b[0;31m     \u001b[0mobj\u001b[0m\u001b[0;34m.\u001b[0m\u001b[0mwrite_stream\u001b[0m\u001b[0;34m(\u001b[0m\u001b[0mdf\u001b[0m\u001b[0;34m)\u001b[0m\u001b[0;34m\u001b[0m\u001b[0m\n\u001b[0m\u001b[1;32m     28\u001b[0m     \u001b[0;31m#%storage write --variable df --object $bucket_object\u001b[0m\u001b[0;34m\u001b[0m\u001b[0;34m\u001b[0m\u001b[0m\n\u001b[1;32m     29\u001b[0m \u001b[0;34m\u001b[0m\u001b[0m\n",
      "\u001b[0;31mTypeError\u001b[0m: write_stream() takes exactly 3 arguments (2 given)"
     ]
    }
   ],
   "source": [
    "write_bq(df, bucket_name, bigquery_table_name, bigquery_dataset_name)"
   ]
  },
  {
   "cell_type": "code",
   "execution_count": 44,
   "metadata": {
    "collapsed": false
   },
   "outputs": [],
   "source": [
    "# write_bq(dedup, 'openstates-bills', 'OpenstatesBills', 'ubisc')\n",
    "# write_bq(sponsorships, 'openstates-sponsorships', 'OpenstatesSponsorships', 'ubisc')"
   ]
  },
  {
   "cell_type": "code",
   "execution_count": 45,
   "metadata": {
    "collapsed": false
   },
   "outputs": [
    {
     "data": {
      "text/html": [
       "\n",
       "    <div class=\"bqtv\" id=\"1_150838620206\"><table><tr><th>id</th><th>state</th><th>session</th><th>bill_id</th><th>title</th><th>created_at</th><th>queries</th><th>openstates_url</th></tr><tr><td>MIB00000103</td><td>mi</td><td>2011-2012</td><td>SB 103</td><td>Income tax; credit; earned income tax credit; eliminate. Amends sec. 272 of 1967 PA 281 (MCL 206.272).</td><td>2011-04-07</td><td>{earned income tax credit}</td><td>https://openstates.org/mi/bills/2011-2012/SB 103</td></tr><tr><td>WIB00003444</td><td>wi</td><td>2011 Regular Session</td><td>AB 637</td><td>disregarding a taxpayer's election to include another in its combined group, disallowing certain carry-forward amounts for combined reporting purposes, repealing the income and franchise tax credit for qualified production activities income, repealing the changes made to the earned income tax credit in 2011 Wisconsin Act 32, restoring indexing provisions to the homestead tax credit, eliminating the individual income tax exclusion for long-term capital gains other than for farm assets, computing the estate tax based on 2002 federal law, and creating a new individual income tax upper bracket.</td><td>2012-02-28</td><td>{earned income tax credit}</td><td>https://openstates.org/wi/bills/2011 Regular Session/AB 637</td></tr><tr><td>TXB00003552</td><td>tx</td><td>81</td><td>HB 956</td><td>Relating to the provision by the Texas Education Agency of federal earned income tax credit educational materials to school districts for distribution to students' parents.</td><td>2010-06-16</td><td>{earned income tax credit}</td><td>https://openstates.org/tx/bills/81/HB 956</td></tr><tr><td>KYB00002712</td><td>ky</td><td>2013RS</td><td>SB 54</td><td>AN ACT relating to the Kentucky Board of Emergency Medical Services. Amend KRS 311A.015 to attach the Kentucky Board of Emergency Medical Services to the Public Protection Cabinet for administrative purposes; amend KRS 311A.020 to require all employees assigned to the board to be transferred from the KCTCS system to the KRS Chapter 18A personnel system; require new employees to be hired under provisions of KRS Chapter 18A; require the transfer of all moneys appropriated to and collected by the board to the Public Protection Cabinet; amend KRS 12.020 and 12.252 to conform.</td><td>2013-01-12</td><td>{ctc}</td><td>https://openstates.org/ky/bills/2013RS/SB 54</td></tr><tr><td>NJB00021908</td><td>nj</td><td>215</td><td>S 2104</td><td>Increases the State earned income tax credit from 20 percent to 25 percent of the federal earned income tax credit over two taxable years.</td><td>2012-06-22</td><td>{earned income tax credit}</td><td>https://openstates.org/nj/bills/215/S 2104</td></tr><tr><td>NYB00098118</td><td>ny</td><td>2017-2018</td><td>A 2108</td><td>Provides earned income tax credit to youth workers, increases standard deduction for individuals 18 to 24, and provides for deduction of student loan interest</td><td>2017-01-23</td><td>{earned income tax credit}</td><td>https://openstates.org/ny/bills/2017-2018/A 2108</td></tr><tr><td>PRB00016364</td><td>pr</td><td>2017-2020</td><td>PC 732</td><td>Para enmendar la Sección 1052.01 de la Ley 1-2011, según emendada, conocida como “Código de Rentas Internas para un Nuevo Puerto Rico”, a los fines de restituir el crédito por trabajo (“earned income tax credit”); aumentar los límites de ingresos, con el propósito de fomentar el trabajo e impulsar nuestra economía; y para otros fines relacionados.</td><td>2017-02-07</td><td>{earned income tax credit}</td><td>https://openstates.org/pr/bills/2017-2020/PC 732</td></tr><tr><td>IAB00003041</td><td>ia</td><td>2013-2014</td><td>SF 295</td><td>A bill for an act relating to state and local finances by establishing a business property tax credit for commercial, industrial, and railway property, establishing and modifying property assessment limitations, providing for commercial and industrial property tax replacement payments, providing for the classification of multiresidential property, modifying provisions for the taxation of telecommunications company property, providing for the study of the taxation of telecommunications company property, providing a taxpayers trust fund tax credit, modifying provisions relating to the property assessment appeal board, modifying the amount of the earned income tax credit, making appropriations, providing penalties, and including effective date, implementation, retroactive applicability, and other applicability provisions. (Formerly SSB 1135.) Various effective dates; see sections 22, 30, 38, 45, and 64 of bill.</td><td>2013-03-05</td><td>{earned income tax credit}</td><td>https://openstates.org/ia/bills/2013-2014/SF 295</td></tr><tr><td>NJB00023637</td><td>nj</td><td>215</td><td>A 4032</td><td>\"Direct Tax Relief for New Jersey Families Act\"; Establishes the New Jersey Direct Property Tax Relief Program; increases the renter's gross income tax credit for property taxes; and increases the earned income tax credit.  </td><td>2013-04-30</td><td>{earned income tax credit}</td><td>https://openstates.org/nj/bills/215/A 4032</td></tr><tr><td>MSB00002390</td><td>ms</td><td>2010</td><td>HB 866</td><td>Income tax; provide a credit for taxpayers allowed to claim federal earned income tax credit.</td><td>2010-12-10</td><td>{earned income tax credit}</td><td>https://openstates.org/ms/bills/2010/HB 866</td></tr><tr><td>NJB00021736</td><td>nj</td><td>215</td><td>A 3029</td><td>Increases benefit amounts under New Jersey earned income credit program to 25 percent of federal earned income tax credit amounts beginning in Tax Year 2012.</td><td>2012-05-25</td><td>{earned income credit, earned income tax credit}</td><td>https://openstates.org/nj/bills/215/A 3029</td></tr><tr><td>NCB00003836</td><td>nc</td><td>2011</td><td>SB 117</td><td>Eliminate EITC Refundability Provision.</td><td>2011-02-24</td><td>{eitc}</td><td>https://openstates.org/nc/bills/2011/SB 117</td></tr><tr><td>CAB00015891</td><td>ca</td><td>20152016</td><td>AB 720</td><td>California Global Warming Solutions Act of 2006: market-based compliance mechanisms.</td><td>2015-02-27</td><td>{market-based compliance mechanisms}</td><td>https://openstates.org/ca/bills/20152016/AB 720</td></tr><tr><td>NYB00037437</td><td>ny</td><td>2013-2014</td><td>A 4280</td><td>Increases the amount of the earned income tax credit</td><td>2013-02-05</td><td>{earned income tax credit}</td><td>https://openstates.org/ny/bills/2013-2014/A 4280</td></tr><tr><td>CAB00020602</td><td>ca</td><td>20172018</td><td>AB 398</td><td>California Global Warming Solutions Act of 2006: market-based compliance mechanisms: fire prevention fees: sales and use tax manufacturing exemption.</td><td>2017-02-10</td><td>{market-based compliance mechanisms}</td><td>https://openstates.org/ca/bills/20172018/AB 398</td></tr><tr><td>LAB00001553</td><td>la</td><td>2010</td><td>SB 297</td><td>Eliminates the division of adult and community education within the Dept. of Education and transfers the responsibility for adult education programs from BESE to LCTCS.</td><td>2010-08-06</td><td>{ctc}</td><td>https://openstates.org/la/bills/2010/SB 297</td></tr><tr><td>NCB00007954</td><td>nc</td><td>2015</td><td>HB 27</td><td>Reenact EITC.</td><td>2015-01-29</td><td>{eitc}</td><td>https://openstates.org/nc/bills/2015/HB 27</td></tr><tr><td>RIB00003398</td><td>ri</td><td>2013</td><td>HB 5640</td><td>AN ACT RELATING TO STATE AFFAIRS AND GOVERNMENT - DEPARTMENT OF ADMINISTRATION (would redefine the refundable earned income credit to fifty percent (50%) of the amount by which the Rhode Island earned income tax credit exceeds the Rhode Island income tax)</td><td>2013-02-28</td><td>{earned income credit, earned income tax credit}</td><td>https://openstates.org/ri/bills/2013/HB 5640</td></tr><tr><td>WVB00000044</td><td>wv</td><td>2011</td><td>SB 44</td><td>Providing earned income tax credit to certain taxpayers with qualifying children</td><td>2011-07-25</td><td>{earned income tax credit}</td><td>https://openstates.org/wv/bills/2011/SB 44</td></tr><tr><td>MOB00007375</td><td>mo</td><td>2015</td><td>HB 1296</td><td>Authorizes an earned income tax credit</td><td>2015-03-13</td><td>{earned income tax credit}</td><td>https://openstates.org/mo/bills/2015/HB 1296</td></tr><tr><td>MTB00004220</td><td>mt</td><td>2017</td><td>HB 391</td><td>Provide for Montana earned income tax credit</td><td>2017-02-07</td><td>{earned income tax credit}</td><td>https://openstates.org/mt/bills/2017/HB 391</td></tr><tr><td>KSB00000610</td><td>ks</td><td>2011-2012</td><td>HB 2358</td><td>Decreasing sales tax rate and earned income tax credit and food sales tax refund amounts.</td><td>2011-12-07</td><td>{earned income tax credit}</td><td>https://openstates.org/ks/bills/2011-2012/HB 2358</td></tr><tr><td>CAB00020293</td><td>ca</td><td>20172018</td><td>AB 225</td><td>Personal income taxes: earned income credit: earned income amount.</td><td>2017-01-27</td><td>{earned income credit}</td><td>https://openstates.org/ca/bills/20172018/AB 225</td></tr><tr><td>MTB00004058</td><td>mt</td><td>2017</td><td>SB 156</td><td>Provide for Montana earned income tax credit</td><td>2017-01-26</td><td>{earned income tax credit}</td><td>https://openstates.org/mt/bills/2017/SB 156</td></tr><tr><td>NYB00080952</td><td>ny</td><td>2015-2016</td><td>S 4823A</td><td>Increases the amount of the earned income tax credit</td><td>2016-01-12</td><td>{earned income tax credit}</td><td>https://openstates.org/ny/bills/2015-2016/S 4823A</td></tr></table></div>\n",
       "    <br />(rows: 0, ubisc-181602:ubisc.OpenstatesBills)<br />\n",
       "    <script>\n",
       "\n",
       "      require.config({\n",
       "        paths: {\n",
       "          d3: '//cdnjs.cloudflare.com/ajax/libs/d3/3.4.13/d3',\n",
       "          plotly: 'https://cdn.plot.ly/plotly-1.5.1.min.js?noext',\n",
       "          jquery: '//ajax.googleapis.com/ajax/libs/jquery/2.0.0/jquery.min'\n",
       "        },\n",
       "        map: {\n",
       "          '*': {\n",
       "            datalab: 'nbextensions/gcpdatalab'\n",
       "          }\n",
       "        },\n",
       "        shim: {\n",
       "          plotly: {\n",
       "            deps: ['d3', 'jquery'],\n",
       "            exports: 'plotly'\n",
       "          }\n",
       "        }\n",
       "      });\n",
       "\n",
       "      require(['datalab/charting', 'datalab/element!1_150838620206', 'base/js/events',\n",
       "          'datalab/style!/nbextensions/gcpdatalab/charting.css'],\n",
       "        function(charts, dom, events) {\n",
       "          charts.render('gcharts', dom, events, 'table', [], {\"rows\": [{\"c\": [{\"v\": \"MIB00000103\"}, {\"v\": \"mi\"}, {\"v\": \"2011-2012\"}, {\"v\": \"SB 103\"}, {\"v\": \"Income tax; credit; earned income tax credit; eliminate. Amends sec. 272 of 1967 PA 281 (MCL 206.272).\"}, {\"v\": \"2011-04-07\"}, {\"v\": \"{earned income tax credit}\"}, {\"v\": \"https://openstates.org/mi/bills/2011-2012/SB 103\"}]}, {\"c\": [{\"v\": \"WIB00003444\"}, {\"v\": \"wi\"}, {\"v\": \"2011 Regular Session\"}, {\"v\": \"AB 637\"}, {\"v\": \"disregarding a taxpayer's election to include another in its combined group, disallowing certain carry-forward amounts for combined reporting purposes, repealing the income and franchise tax credit for qualified production activities income, repealing the changes made to the earned income tax credit in 2011 Wisconsin Act 32, restoring indexing provisions to the homestead tax credit, eliminating the individual income tax exclusion for long-term capital gains other than for farm assets, computing the estate tax based on 2002 federal law, and creating a new individual income tax upper bracket.\"}, {\"v\": \"2012-02-28\"}, {\"v\": \"{earned income tax credit}\"}, {\"v\": \"https://openstates.org/wi/bills/2011 Regular Session/AB 637\"}]}, {\"c\": [{\"v\": \"TXB00003552\"}, {\"v\": \"tx\"}, {\"v\": \"81\"}, {\"v\": \"HB 956\"}, {\"v\": \"Relating to the provision by the Texas Education Agency of federal earned income tax credit educational materials to school districts for distribution to students' parents.\"}, {\"v\": \"2010-06-16\"}, {\"v\": \"{earned income tax credit}\"}, {\"v\": \"https://openstates.org/tx/bills/81/HB 956\"}]}, {\"c\": [{\"v\": \"KYB00002712\"}, {\"v\": \"ky\"}, {\"v\": \"2013RS\"}, {\"v\": \"SB 54\"}, {\"v\": \"AN ACT relating to the Kentucky Board of Emergency Medical Services. Amend KRS 311A.015 to attach the Kentucky Board of Emergency Medical Services to the Public Protection Cabinet for administrative purposes; amend KRS 311A.020 to require all employees assigned to the board to be transferred from the KCTCS system to the KRS Chapter 18A personnel system; require new employees to be hired under provisions of KRS Chapter 18A; require the transfer of all moneys appropriated to and collected by the board to the Public Protection Cabinet; amend KRS 12.020 and 12.252 to conform.\"}, {\"v\": \"2013-01-12\"}, {\"v\": \"{ctc}\"}, {\"v\": \"https://openstates.org/ky/bills/2013RS/SB 54\"}]}, {\"c\": [{\"v\": \"NJB00021908\"}, {\"v\": \"nj\"}, {\"v\": \"215\"}, {\"v\": \"S 2104\"}, {\"v\": \"Increases the State earned income tax credit from 20 percent to 25 percent of the federal earned income tax credit over two taxable years.\"}, {\"v\": \"2012-06-22\"}, {\"v\": \"{earned income tax credit}\"}, {\"v\": \"https://openstates.org/nj/bills/215/S 2104\"}]}, {\"c\": [{\"v\": \"NYB00098118\"}, {\"v\": \"ny\"}, {\"v\": \"2017-2018\"}, {\"v\": \"A 2108\"}, {\"v\": \"Provides earned income tax credit to youth workers, increases standard deduction for individuals 18 to 24, and provides for deduction of student loan interest\"}, {\"v\": \"2017-01-23\"}, {\"v\": \"{earned income tax credit}\"}, {\"v\": \"https://openstates.org/ny/bills/2017-2018/A 2108\"}]}, {\"c\": [{\"v\": \"PRB00016364\"}, {\"v\": \"pr\"}, {\"v\": \"2017-2020\"}, {\"v\": \"PC 732\"}, {\"v\": \"Para enmendar la Secci\\u00f3n 1052.01 de la Ley 1-2011, seg\\u00fan emendada, conocida como \\u201cC\\u00f3digo de Rentas Internas para un Nuevo Puerto Rico\\u201d, a los fines de restituir el cr\\u00e9dito por trabajo (\\u201cearned income tax credit\\u201d); aumentar los l\\u00edmites de ingresos, con el prop\\u00f3sito de fomentar el trabajo e impulsar nuestra econom\\u00eda; y para otros fines relacionados.\"}, {\"v\": \"2017-02-07\"}, {\"v\": \"{earned income tax credit}\"}, {\"v\": \"https://openstates.org/pr/bills/2017-2020/PC 732\"}]}, {\"c\": [{\"v\": \"IAB00003041\"}, {\"v\": \"ia\"}, {\"v\": \"2013-2014\"}, {\"v\": \"SF 295\"}, {\"v\": \"A bill for an act relating to state and local finances by establishing a business property tax credit for commercial, industrial, and railway property, establishing and modifying property assessment limitations, providing for commercial and industrial property tax replacement payments, providing for the classification of multiresidential property, modifying provisions for the taxation of telecommunications company property, providing for the study of the taxation of telecommunications company property, providing a taxpayers trust fund tax credit, modifying provisions relating to the property assessment appeal board, modifying the amount of the earned income tax credit, making appropriations, providing penalties, and including effective date, implementation, retroactive applicability, and other applicability provisions. (Formerly SSB 1135.) Various effective dates; see sections 22, 30, 38, 45, and 64 of bill.\"}, {\"v\": \"2013-03-05\"}, {\"v\": \"{earned income tax credit}\"}, {\"v\": \"https://openstates.org/ia/bills/2013-2014/SF 295\"}]}, {\"c\": [{\"v\": \"NJB00023637\"}, {\"v\": \"nj\"}, {\"v\": \"215\"}, {\"v\": \"A 4032\"}, {\"v\": \"\\\"Direct Tax Relief for New Jersey Families Act\\\"; Establishes the New Jersey Direct Property Tax Relief Program; increases the renter's gross income tax credit for property taxes; and increases the earned income tax credit.  \"}, {\"v\": \"2013-04-30\"}, {\"v\": \"{earned income tax credit}\"}, {\"v\": \"https://openstates.org/nj/bills/215/A 4032\"}]}, {\"c\": [{\"v\": \"MSB00002390\"}, {\"v\": \"ms\"}, {\"v\": \"2010\"}, {\"v\": \"HB 866\"}, {\"v\": \"Income tax; provide a credit for taxpayers allowed to claim federal earned income tax credit.\"}, {\"v\": \"2010-12-10\"}, {\"v\": \"{earned income tax credit}\"}, {\"v\": \"https://openstates.org/ms/bills/2010/HB 866\"}]}, {\"c\": [{\"v\": \"NJB00021736\"}, {\"v\": \"nj\"}, {\"v\": \"215\"}, {\"v\": \"A 3029\"}, {\"v\": \"Increases benefit amounts under New Jersey earned income credit program to 25 percent of federal earned income tax credit amounts beginning in Tax Year 2012.\"}, {\"v\": \"2012-05-25\"}, {\"v\": \"{earned income credit, earned income tax credit}\"}, {\"v\": \"https://openstates.org/nj/bills/215/A 3029\"}]}, {\"c\": [{\"v\": \"NCB00003836\"}, {\"v\": \"nc\"}, {\"v\": \"2011\"}, {\"v\": \"SB 117\"}, {\"v\": \"Eliminate EITC Refundability Provision.\"}, {\"v\": \"2011-02-24\"}, {\"v\": \"{eitc}\"}, {\"v\": \"https://openstates.org/nc/bills/2011/SB 117\"}]}, {\"c\": [{\"v\": \"CAB00015891\"}, {\"v\": \"ca\"}, {\"v\": \"20152016\"}, {\"v\": \"AB 720\"}, {\"v\": \"California Global Warming Solutions Act of 2006: market-based compliance mechanisms.\"}, {\"v\": \"2015-02-27\"}, {\"v\": \"{market-based compliance mechanisms}\"}, {\"v\": \"https://openstates.org/ca/bills/20152016/AB 720\"}]}, {\"c\": [{\"v\": \"NYB00037437\"}, {\"v\": \"ny\"}, {\"v\": \"2013-2014\"}, {\"v\": \"A 4280\"}, {\"v\": \"Increases the amount of the earned income tax credit\"}, {\"v\": \"2013-02-05\"}, {\"v\": \"{earned income tax credit}\"}, {\"v\": \"https://openstates.org/ny/bills/2013-2014/A 4280\"}]}, {\"c\": [{\"v\": \"CAB00020602\"}, {\"v\": \"ca\"}, {\"v\": \"20172018\"}, {\"v\": \"AB 398\"}, {\"v\": \"California Global Warming Solutions Act of 2006: market-based compliance mechanisms: fire prevention fees: sales and use tax manufacturing exemption.\"}, {\"v\": \"2017-02-10\"}, {\"v\": \"{market-based compliance mechanisms}\"}, {\"v\": \"https://openstates.org/ca/bills/20172018/AB 398\"}]}, {\"c\": [{\"v\": \"LAB00001553\"}, {\"v\": \"la\"}, {\"v\": \"2010\"}, {\"v\": \"SB 297\"}, {\"v\": \"Eliminates the division of adult and community education within the Dept. of Education and transfers the responsibility for adult education programs from BESE to LCTCS.\"}, {\"v\": \"2010-08-06\"}, {\"v\": \"{ctc}\"}, {\"v\": \"https://openstates.org/la/bills/2010/SB 297\"}]}, {\"c\": [{\"v\": \"NCB00007954\"}, {\"v\": \"nc\"}, {\"v\": \"2015\"}, {\"v\": \"HB 27\"}, {\"v\": \"Reenact EITC.\"}, {\"v\": \"2015-01-29\"}, {\"v\": \"{eitc}\"}, {\"v\": \"https://openstates.org/nc/bills/2015/HB 27\"}]}, {\"c\": [{\"v\": \"RIB00003398\"}, {\"v\": \"ri\"}, {\"v\": \"2013\"}, {\"v\": \"HB 5640\"}, {\"v\": \"AN ACT RELATING TO STATE AFFAIRS AND GOVERNMENT - DEPARTMENT OF ADMINISTRATION (would redefine the refundable earned income credit to fifty percent (50%) of the amount by which the Rhode Island earned income tax credit exceeds the Rhode Island income tax)\"}, {\"v\": \"2013-02-28\"}, {\"v\": \"{earned income credit, earned income tax credit}\"}, {\"v\": \"https://openstates.org/ri/bills/2013/HB 5640\"}]}, {\"c\": [{\"v\": \"WVB00000044\"}, {\"v\": \"wv\"}, {\"v\": \"2011\"}, {\"v\": \"SB 44\"}, {\"v\": \"Providing earned income tax credit to certain taxpayers with qualifying children\"}, {\"v\": \"2011-07-25\"}, {\"v\": \"{earned income tax credit}\"}, {\"v\": \"https://openstates.org/wv/bills/2011/SB 44\"}]}, {\"c\": [{\"v\": \"MOB00007375\"}, {\"v\": \"mo\"}, {\"v\": \"2015\"}, {\"v\": \"HB 1296\"}, {\"v\": \"Authorizes an earned income tax credit\"}, {\"v\": \"2015-03-13\"}, {\"v\": \"{earned income tax credit}\"}, {\"v\": \"https://openstates.org/mo/bills/2015/HB 1296\"}]}, {\"c\": [{\"v\": \"MTB00004220\"}, {\"v\": \"mt\"}, {\"v\": \"2017\"}, {\"v\": \"HB 391\"}, {\"v\": \"Provide for Montana earned income tax credit\"}, {\"v\": \"2017-02-07\"}, {\"v\": \"{earned income tax credit}\"}, {\"v\": \"https://openstates.org/mt/bills/2017/HB 391\"}]}, {\"c\": [{\"v\": \"KSB00000610\"}, {\"v\": \"ks\"}, {\"v\": \"2011-2012\"}, {\"v\": \"HB 2358\"}, {\"v\": \"Decreasing sales tax rate and earned income tax credit and food sales tax refund amounts.\"}, {\"v\": \"2011-12-07\"}, {\"v\": \"{earned income tax credit}\"}, {\"v\": \"https://openstates.org/ks/bills/2011-2012/HB 2358\"}]}, {\"c\": [{\"v\": \"CAB00020293\"}, {\"v\": \"ca\"}, {\"v\": \"20172018\"}, {\"v\": \"AB 225\"}, {\"v\": \"Personal income taxes: earned income credit: earned income amount.\"}, {\"v\": \"2017-01-27\"}, {\"v\": \"{earned income credit}\"}, {\"v\": \"https://openstates.org/ca/bills/20172018/AB 225\"}]}, {\"c\": [{\"v\": \"MTB00004058\"}, {\"v\": \"mt\"}, {\"v\": \"2017\"}, {\"v\": \"SB 156\"}, {\"v\": \"Provide for Montana earned income tax credit\"}, {\"v\": \"2017-01-26\"}, {\"v\": \"{earned income tax credit}\"}, {\"v\": \"https://openstates.org/mt/bills/2017/SB 156\"}]}, {\"c\": [{\"v\": \"NYB00080952\"}, {\"v\": \"ny\"}, {\"v\": \"2015-2016\"}, {\"v\": \"S 4823A\"}, {\"v\": \"Increases the amount of the earned income tax credit\"}, {\"v\": \"2016-01-12\"}, {\"v\": \"{earned income tax credit}\"}, {\"v\": \"https://openstates.org/ny/bills/2015-2016/S 4823A\"}]}], \"cols\": [{\"type\": \"string\", \"id\": \"id\", \"label\": \"id\"}, {\"type\": \"string\", \"id\": \"state\", \"label\": \"state\"}, {\"type\": \"string\", \"id\": \"session\", \"label\": \"session\"}, {\"type\": \"string\", \"id\": \"bill_id\", \"label\": \"bill_id\"}, {\"type\": \"string\", \"id\": \"title\", \"label\": \"title\"}, {\"type\": \"string\", \"id\": \"created_at\", \"label\": \"created_at\"}, {\"type\": \"string\", \"id\": \"queries\", \"label\": \"queries\"}, {\"type\": \"string\", \"id\": \"openstates_url\", \"label\": \"openstates_url\"}]},\n",
       "            {\n",
       "              pageSize: 25,\n",
       "              cssClassNames:  {\n",
       "                tableRow: 'gchart-table-row',\n",
       "                headerRow: 'gchart-table-headerrow',\n",
       "                oddTableRow: 'gchart-table-oddrow',\n",
       "                selectedTableRow: 'gchart-table-selectedrow',\n",
       "                hoverTableRow: 'gchart-table-hoverrow',\n",
       "                tableCell: 'gchart-table-cell',\n",
       "                headerCell: 'gchart-table-headercell',\n",
       "                rowNumberCell: 'gchart-table-rownumcell'\n",
       "              }\n",
       "            },\n",
       "            {source_index: 0, fields: 'id,state,session,bill_id,title,created_at,queries,openstates_url', legacy: 'true'},\n",
       "            0,\n",
       "            0);\n",
       "        }\n",
       "      );\n",
       "    </script>\n",
       "  "
      ],
      "text/plain": [
       "Table ubisc-181602:ubisc.OpenstatesBills"
      ]
     },
     "execution_count": 45,
     "metadata": {},
     "output_type": "execute_result"
    }
   ],
   "source": [
    "full_bucket_name = Context.default().project_id + '-' + bucket_name\n",
    "bucket_path = 'gs://' + full_bucket_name\n",
    "bucket_object = bucket_path + '/' + bucket_name + '.txt'\n",
    "\n",
    "# Define storage bucket\n",
    "bucket = storage.Bucket(full_bucket_name)\n",
    "\n",
    "# Create storage bucket if it does not exist\n",
    "if not bucket.exists():\n",
    "    bucket.create()\n",
    "\n",
    "# Define BigQuery dataset and table\n",
    "dataset = bq.Dataset(bigquery_dataset_name)\n",
    "table = bq.Table(bigquery_dataset_name + '.' + bigquery_table_name)\n",
    "\n",
    "# Create BigQuery dataset\n",
    "if not dataset.exists():\n",
    "    dataset.create()\n",
    "\n",
    "# Create or overwrite the existing table if it exists\n",
    "table_schema = bq.Schema.from_dataframe(df)\n",
    "table.create(schema = table_schema, overwrite = True)\n",
    "\n",
    "# Write the DataFrame to GCS (Google Cloud Storage)\n",
    "%storage write --variable df --object $bucket_object\n",
    "\n",
    "# Write the DataFrame to a BigQuery table\n",
    "table.insert_data(df)"
   ]
  },
  {
   "cell_type": "code",
   "execution_count": 46,
   "metadata": {
    "collapsed": true
   },
   "outputs": [],
   "source": [
    "# Params (would be function args).\n",
    "df = sponsorships\n",
    "bucket_name = 'openstates-sponsorships'\n",
    "bigquery_table_name = 'OpenstatesSponsorships' \n",
    "bigquery_dataset_name = 'ubisc'"
   ]
  },
  {
   "cell_type": "code",
   "execution_count": 47,
   "metadata": {
    "collapsed": false
   },
   "outputs": [
    {
     "name": "stderr",
     "output_type": "stream",
     "text": [
      "Failed to process HTTP response.\n"
     ]
    },
    {
     "data": {
      "text/html": [
       "\n",
       "    <div class=\"bqtv\" id=\"2_150838621243\"><table><tr><th>id</th><th>leg_id</th><th>name</th><th>type</th></tr><tr><td>ILB00059444</td><td>ILL000725</td><td>LaShawn K. Ford</td><td>cosponsor</td></tr><tr><td>MDB00003246</td><td>MDL000202</td><td>Brian E. Frosh</td><td>cosponsor</td></tr><tr><td>ILB00097006</td><td>ILL000863</td><td>Deb Conroy</td><td>cosponsor</td></tr><tr><td>NCB00002878</td><td>NCL000172</td><td>Weiss</td><td>cosponsor</td></tr><tr><td>MDB00017455</td><td>MDL000605</td><td>A. Washington</td><td>cosponsor</td></tr><tr><td>NCB00005652</td><td>NCL000181</td><td>Keever</td><td>cosponsor</td></tr><tr><td>MIB00002821</td><td>MIL000064</td><td>Jim Townsend</td><td>cosponsor</td></tr><tr><td>NYB00023405</td><td>NYL000114</td><td>Gottfried</td><td>cosponsor</td></tr><tr><td>ILB00073100</td><td>ILL000076</td><td>John D. Cavaletto</td><td>cosponsor</td></tr><tr><td>CAB00017592</td><td>CAL000385</td><td>Maienschein</td><td>cosponsor</td></tr><tr><td>MDB00023800</td><td>MDL000195</td><td>Currie</td><td>cosponsor</td></tr><tr><td>MIB00005267</td><td>MIL000053</td><td>George T. Darany</td><td>cosponsor</td></tr><tr><td>PAB00010028</td><td>PAL000020</td><td>Kasunic</td><td>cosponsor</td></tr><tr><td>MAB00022527</td><td>MAL000120</td><td>Jay R. Kaufman</td><td>cosponsor</td></tr><tr><td>ILB00097997</td><td>ILL000148</td><td>Robert W. Pritchard</td><td>cosponsor</td></tr><tr><td>KYB00005056</td><td>KYL000152</td><td>W. Westerfield</td><td>primary</td></tr><tr><td>CAB00021291</td><td>CAL000461</td><td>Eduardo Garcia</td><td>coauthor</td></tr><tr><td>MDB00024096</td><td>MDL000406</td><td>Otto</td><td>cosponsor</td></tr><tr><td>NYB00037437</td><td>NYL000207</td><td>Weisenberg</td><td>cosponsor</td></tr><tr><td>WIB00005194</td><td>WIL000547</td><td>Wright</td><td>primary</td></tr><tr><td>WIB00005746</td><td>WIL000501</td><td>Barnes</td><td>primary</td></tr><tr><td>NYB00053646</td><td>NYL000077</td><td>Bronson</td><td>primary</td></tr><tr><td>NYB00037437</td><td>NYL000067</td><td>Aubry</td><td>cosponsor</td></tr><tr><td>ILB00097006</td><td>ILL000103</td><td>Robyn Gabel</td><td>cosponsor</td></tr><tr><td>MSB00028837</td><td>MSL000213</td><td>Dixon</td><td>cosponsor</td></tr></table></div>\n",
       "    <br />(rows: 0, ubisc-181602:ubisc.OpenstatesSponsorships)<br />\n",
       "    <script>\n",
       "\n",
       "      require.config({\n",
       "        paths: {\n",
       "          d3: '//cdnjs.cloudflare.com/ajax/libs/d3/3.4.13/d3',\n",
       "          plotly: 'https://cdn.plot.ly/plotly-1.5.1.min.js?noext',\n",
       "          jquery: '//ajax.googleapis.com/ajax/libs/jquery/2.0.0/jquery.min'\n",
       "        },\n",
       "        map: {\n",
       "          '*': {\n",
       "            datalab: 'nbextensions/gcpdatalab'\n",
       "          }\n",
       "        },\n",
       "        shim: {\n",
       "          plotly: {\n",
       "            deps: ['d3', 'jquery'],\n",
       "            exports: 'plotly'\n",
       "          }\n",
       "        }\n",
       "      });\n",
       "\n",
       "      require(['datalab/charting', 'datalab/element!2_150838621243', 'base/js/events',\n",
       "          'datalab/style!/nbextensions/gcpdatalab/charting.css'],\n",
       "        function(charts, dom, events) {\n",
       "          charts.render('gcharts', dom, events, 'table', [], {\"rows\": [{\"c\": [{\"v\": \"ILB00059444\"}, {\"v\": \"ILL000725\"}, {\"v\": \"LaShawn K. Ford\"}, {\"v\": \"cosponsor\"}]}, {\"c\": [{\"v\": \"MDB00003246\"}, {\"v\": \"MDL000202\"}, {\"v\": \"Brian E. Frosh\"}, {\"v\": \"cosponsor\"}]}, {\"c\": [{\"v\": \"ILB00097006\"}, {\"v\": \"ILL000863\"}, {\"v\": \"Deb Conroy\"}, {\"v\": \"cosponsor\"}]}, {\"c\": [{\"v\": \"NCB00002878\"}, {\"v\": \"NCL000172\"}, {\"v\": \"Weiss\"}, {\"v\": \"cosponsor\"}]}, {\"c\": [{\"v\": \"MDB00017455\"}, {\"v\": \"MDL000605\"}, {\"v\": \"A. Washington\"}, {\"v\": \"cosponsor\"}]}, {\"c\": [{\"v\": \"NCB00005652\"}, {\"v\": \"NCL000181\"}, {\"v\": \"Keever\"}, {\"v\": \"cosponsor\"}]}, {\"c\": [{\"v\": \"MIB00002821\"}, {\"v\": \"MIL000064\"}, {\"v\": \"Jim Townsend\"}, {\"v\": \"cosponsor\"}]}, {\"c\": [{\"v\": \"NYB00023405\"}, {\"v\": \"NYL000114\"}, {\"v\": \"Gottfried\"}, {\"v\": \"cosponsor\"}]}, {\"c\": [{\"v\": \"ILB00073100\"}, {\"v\": \"ILL000076\"}, {\"v\": \"John D. Cavaletto\"}, {\"v\": \"cosponsor\"}]}, {\"c\": [{\"v\": \"CAB00017592\"}, {\"v\": \"CAL000385\"}, {\"v\": \"Maienschein\"}, {\"v\": \"cosponsor\"}]}, {\"c\": [{\"v\": \"MDB00023800\"}, {\"v\": \"MDL000195\"}, {\"v\": \"Currie\"}, {\"v\": \"cosponsor\"}]}, {\"c\": [{\"v\": \"MIB00005267\"}, {\"v\": \"MIL000053\"}, {\"v\": \"George T. Darany\"}, {\"v\": \"cosponsor\"}]}, {\"c\": [{\"v\": \"PAB00010028\"}, {\"v\": \"PAL000020\"}, {\"v\": \"Kasunic\"}, {\"v\": \"cosponsor\"}]}, {\"c\": [{\"v\": \"MAB00022527\"}, {\"v\": \"MAL000120\"}, {\"v\": \"Jay R. Kaufman\"}, {\"v\": \"cosponsor\"}]}, {\"c\": [{\"v\": \"ILB00097997\"}, {\"v\": \"ILL000148\"}, {\"v\": \"Robert W. Pritchard\"}, {\"v\": \"cosponsor\"}]}, {\"c\": [{\"v\": \"KYB00005056\"}, {\"v\": \"KYL000152\"}, {\"v\": \"W. Westerfield\"}, {\"v\": \"primary\"}]}, {\"c\": [{\"v\": \"CAB00021291\"}, {\"v\": \"CAL000461\"}, {\"v\": \"Eduardo Garcia\"}, {\"v\": \"coauthor\"}]}, {\"c\": [{\"v\": \"MDB00024096\"}, {\"v\": \"MDL000406\"}, {\"v\": \"Otto\"}, {\"v\": \"cosponsor\"}]}, {\"c\": [{\"v\": \"NYB00037437\"}, {\"v\": \"NYL000207\"}, {\"v\": \"Weisenberg\"}, {\"v\": \"cosponsor\"}]}, {\"c\": [{\"v\": \"WIB00005194\"}, {\"v\": \"WIL000547\"}, {\"v\": \"Wright\"}, {\"v\": \"primary\"}]}, {\"c\": [{\"v\": \"WIB00005746\"}, {\"v\": \"WIL000501\"}, {\"v\": \"Barnes\"}, {\"v\": \"primary\"}]}, {\"c\": [{\"v\": \"NYB00053646\"}, {\"v\": \"NYL000077\"}, {\"v\": \"Bronson\"}, {\"v\": \"primary\"}]}, {\"c\": [{\"v\": \"NYB00037437\"}, {\"v\": \"NYL000067\"}, {\"v\": \"Aubry\"}, {\"v\": \"cosponsor\"}]}, {\"c\": [{\"v\": \"ILB00097006\"}, {\"v\": \"ILL000103\"}, {\"v\": \"Robyn Gabel\"}, {\"v\": \"cosponsor\"}]}, {\"c\": [{\"v\": \"MSB00028837\"}, {\"v\": \"MSL000213\"}, {\"v\": \"Dixon\"}, {\"v\": \"cosponsor\"}]}], \"cols\": [{\"type\": \"string\", \"id\": \"id\", \"label\": \"id\"}, {\"type\": \"string\", \"id\": \"leg_id\", \"label\": \"leg_id\"}, {\"type\": \"string\", \"id\": \"name\", \"label\": \"name\"}, {\"type\": \"string\", \"id\": \"type\", \"label\": \"type\"}]},\n",
       "            {\n",
       "              pageSize: 25,\n",
       "              cssClassNames:  {\n",
       "                tableRow: 'gchart-table-row',\n",
       "                headerRow: 'gchart-table-headerrow',\n",
       "                oddTableRow: 'gchart-table-oddrow',\n",
       "                selectedTableRow: 'gchart-table-selectedrow',\n",
       "                hoverTableRow: 'gchart-table-hoverrow',\n",
       "                tableCell: 'gchart-table-cell',\n",
       "                headerCell: 'gchart-table-headercell',\n",
       "                rowNumberCell: 'gchart-table-rownumcell'\n",
       "              }\n",
       "            },\n",
       "            {source_index: 1, fields: 'id,leg_id,name,type', legacy: 'true'},\n",
       "            0,\n",
       "            0);\n",
       "        }\n",
       "      );\n",
       "    </script>\n",
       "  "
      ],
      "text/plain": [
       "Table ubisc-181602:ubisc.OpenstatesSponsorships"
      ]
     },
     "execution_count": 47,
     "metadata": {},
     "output_type": "execute_result"
    }
   ],
   "source": [
    "full_bucket_name = Context.default().project_id + '-' + bucket_name\n",
    "bucket_path = 'gs://' + full_bucket_name\n",
    "bucket_object = bucket_path + '/' + bucket_name + '.txt'\n",
    "\n",
    "# Define storage bucket\n",
    "bucket = storage.Bucket(full_bucket_name)\n",
    "\n",
    "# Create storage bucket if it does not exist\n",
    "if not bucket.exists():\n",
    "    bucket.create()\n",
    "\n",
    "# Define BigQuery dataset and table\n",
    "dataset = bq.Dataset(bigquery_dataset_name)\n",
    "table = bq.Table(bigquery_dataset_name + '.' + bigquery_table_name)\n",
    "\n",
    "# Create BigQuery dataset\n",
    "if not dataset.exists():\n",
    "    dataset.create()\n",
    "\n",
    "# Create or overwrite the existing table if it exists\n",
    "table_schema = bq.Schema.from_dataframe(df)\n",
    "table.create(schema = table_schema, overwrite = True)\n",
    "\n",
    "# Write the DataFrame to GCS (Google Cloud Storage)\n",
    "%storage write --variable df --object $bucket_object\n",
    "\n",
    "# Write the DataFrame to a BigQuery table\n",
    "table.insert_data(df)"
   ]
  },
  {
   "cell_type": "markdown",
   "metadata": {
    "collapsed": true
   },
   "source": [
    "## Extract sponsors and votes"
   ]
  },
  {
   "cell_type": "code",
   "execution_count": null,
   "metadata": {
    "collapsed": true
   },
   "outputs": [],
   "source": []
  }
 ],
 "metadata": {
  "kernelspec": {
   "display_name": "Python 2",
   "language": "python",
   "name": "python2"
  },
  "language_info": {
   "codemirror_mode": {
    "name": "ipython",
    "version": 2
   },
   "file_extension": ".py",
   "mimetype": "text/x-python",
   "name": "python",
   "nbconvert_exporter": "python",
   "pygments_lexer": "ipython2",
   "version": "2.7.12"
  }
 },
 "nbformat": 4,
 "nbformat_minor": 2
}
