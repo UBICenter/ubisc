{
 "cells": [
  {
   "cell_type": "markdown",
   "metadata": {},
   "source": [
    "# Load UBISc Data\n",
    "\n",
    "Loads bills, sponsorships, and votes from Openstates, and exports to CSV."
   ]
  },
  {
   "cell_type": "code",
   "execution_count": 1,
   "metadata": {},
   "outputs": [],
   "source": [
    "import pyopenstates\n",
    "import pandas as pd\n",
    "from pandas.io.json import json_normalize"
   ]
  },
  {
   "cell_type": "code",
   "execution_count": 2,
   "metadata": {},
   "outputs": [],
   "source": [
    "pyopenstates.set_api_key('b6e279fd-5dd2-4bdf-b5f5-0520748f8f11')"
   ]
  },
  {
   "cell_type": "markdown",
   "metadata": {},
   "source": [
    "List search queries.\n",
    "\n",
    "eic is omitted as it primarily [yields](https://openstates.org/api/v1/bills/?q=eic&apikey=b6e279fd-5dd2-4bdf-b5f5-0520748f8f11) Spanish-language bills from Puerto Rico."
   ]
  },
  {
   "cell_type": "markdown",
   "metadata": {},
   "source": [
    "TODO: Create mechanism to add specific bills."
   ]
  },
  {
   "cell_type": "code",
   "execution_count": 3,
   "metadata": {},
   "outputs": [],
   "source": [
    "QUERIES = ['earned income credit',\n",
    "           'earned income tax credit',\n",
    "           'eitc',\n",
    "           'child tax credit',\n",
    "           'ctc',\n",
    "           'cdctc', \n",
    "           'basic income',\n",
    "           'negative income tax',\n",
    "           # For Hawaii's HCR89 bill mandating research into UBI.\n",
    "           'Basic Economic Security',\n",
    "           # For California's carbon dividend proposal, SB775\n",
    "           # (17 false positives).\n",
    "           'market-based compliance mechanisms',\n",
    "           # Colorado's EITC.\n",
    "           'Colorado Working Families Economic Opportunity Act']\n",
    "bill_fields = ['id', 'state', 'session', 'bill_id', 'title', 'created_at']\n",
    "all_fields = list(bill_fields)\n",
    "all_fields.append('sponsors')"
   ]
  },
  {
   "cell_type": "code",
   "execution_count": 4,
   "metadata": {},
   "outputs": [
    {
     "name": "stdout",
     "output_type": "stream",
     "text": [
      "earned income credit\n",
      "earned income tax credit\n",
      "eitc\n",
      "child tax credit\n",
      "ctc\n",
      "cdctc\n",
      "basic income\n",
      "negative income tax\n",
      "Basic Economic Security\n",
      "market-based compliance mechanisms\n",
      "Colorado Working Families Economic Opportunity Act\n"
     ]
    }
   ],
   "source": [
    "bills = pd.DataFrame()\n",
    "sponsorships = pd.DataFrame()\n",
    "for query in QUERIES:\n",
    "    print(query)\n",
    "    tmp_bills_json = pyopenstates.search_bills(q=query,  fields=all_fields)\n",
    "    tmp_bills = pd.DataFrame(tmp_bills_json)\n",
    "    tmp_bills['query'] = query\n",
    "    # Ignore errors since some queries may not return bills with sponsors.\n",
    "    bills = pd.concat([bills, \n",
    "                       tmp_bills.drop('sponsors', axis=1, errors='ignore')])\n",
    "    tmp_sponsorships = json_normalize(tmp_bills_json, 'sponsors', 'id')\n",
    "    sponsorships = pd.concat([sponsorships, tmp_sponsorships])"
   ]
  },
  {
   "cell_type": "markdown",
   "metadata": {},
   "source": [
    "Why the extra fields?"
   ]
  },
  {
   "cell_type": "code",
   "execution_count": 5,
   "metadata": {},
   "outputs": [],
   "source": [
    "sponsorships = sponsorships[['id', 'leg_id', 'name', 'type']]"
   ]
  },
  {
   "cell_type": "code",
   "execution_count": 6,
   "metadata": {},
   "outputs": [
    {
     "data": {
      "text/html": [
       "<div>\n",
       "<style scoped>\n",
       "    .dataframe tbody tr th:only-of-type {\n",
       "        vertical-align: middle;\n",
       "    }\n",
       "\n",
       "    .dataframe tbody tr th {\n",
       "        vertical-align: top;\n",
       "    }\n",
       "\n",
       "    .dataframe thead th {\n",
       "        text-align: right;\n",
       "    }\n",
       "</style>\n",
       "<table border=\"1\" class=\"dataframe\">\n",
       "  <thead>\n",
       "    <tr style=\"text-align: right;\">\n",
       "      <th></th>\n",
       "      <th>id</th>\n",
       "      <th>leg_id</th>\n",
       "      <th>name</th>\n",
       "      <th>type</th>\n",
       "    </tr>\n",
       "  </thead>\n",
       "  <tbody>\n",
       "    <tr>\n",
       "      <th>0</th>\n",
       "      <td>NYB00101179</td>\n",
       "      <td>NYL000113</td>\n",
       "      <td>GOODELL</td>\n",
       "      <td>primary</td>\n",
       "    </tr>\n",
       "    <tr>\n",
       "      <th>1</th>\n",
       "      <td>NYB00101179</td>\n",
       "      <td>NYL000068</td>\n",
       "      <td>BARCLAY</td>\n",
       "      <td>cosponsor</td>\n",
       "    </tr>\n",
       "    <tr>\n",
       "      <th>2</th>\n",
       "      <td>NYB00101179</td>\n",
       "      <td>NYL000174</td>\n",
       "      <td>RA</td>\n",
       "      <td>cosponsor</td>\n",
       "    </tr>\n",
       "    <tr>\n",
       "      <th>3</th>\n",
       "      <td>NYB00101179</td>\n",
       "      <td>NYL000166</td>\n",
       "      <td>OAKS</td>\n",
       "      <td>cosponsor</td>\n",
       "    </tr>\n",
       "    <tr>\n",
       "      <th>4</th>\n",
       "      <td>NYB00101179</td>\n",
       "      <td>NYL000106</td>\n",
       "      <td>FRIEND</td>\n",
       "      <td>cosponsor</td>\n",
       "    </tr>\n",
       "  </tbody>\n",
       "</table>\n",
       "</div>"
      ],
      "text/plain": [
       "            id     leg_id     name       type\n",
       "0  NYB00101179  NYL000113  GOODELL    primary\n",
       "1  NYB00101179  NYL000068  BARCLAY  cosponsor\n",
       "2  NYB00101179  NYL000174       RA  cosponsor\n",
       "3  NYB00101179  NYL000166     OAKS  cosponsor\n",
       "4  NYB00101179  NYL000106   FRIEND  cosponsor"
      ]
     },
     "execution_count": 6,
     "metadata": {},
     "output_type": "execute_result"
    }
   ],
   "source": [
    "sponsorships[:5]"
   ]
  },
  {
   "cell_type": "code",
   "execution_count": 7,
   "metadata": {},
   "outputs": [
    {
     "data": {
      "text/plain": [
       "(3721, 4)"
      ]
     },
     "execution_count": 7,
     "metadata": {},
     "output_type": "execute_result"
    }
   ],
   "source": [
    "sponsorships.shape"
   ]
  },
  {
   "cell_type": "code",
   "execution_count": 8,
   "metadata": {},
   "outputs": [
    {
     "data": {
      "text/plain": [
       "(559, 7)"
      ]
     },
     "execution_count": 8,
     "metadata": {},
     "output_type": "execute_result"
    }
   ],
   "source": [
    "bills.shape"
   ]
  },
  {
   "cell_type": "code",
   "execution_count": 9,
   "metadata": {},
   "outputs": [
    {
     "data": {
      "text/html": [
       "<div>\n",
       "<style scoped>\n",
       "    .dataframe tbody tr th:only-of-type {\n",
       "        vertical-align: middle;\n",
       "    }\n",
       "\n",
       "    .dataframe tbody tr th {\n",
       "        vertical-align: top;\n",
       "    }\n",
       "\n",
       "    .dataframe thead th {\n",
       "        text-align: right;\n",
       "    }\n",
       "</style>\n",
       "<table border=\"1\" class=\"dataframe\">\n",
       "  <thead>\n",
       "    <tr style=\"text-align: right;\">\n",
       "      <th></th>\n",
       "      <th>bill_id</th>\n",
       "      <th>created_at</th>\n",
       "      <th>id</th>\n",
       "      <th>query</th>\n",
       "      <th>session</th>\n",
       "      <th>state</th>\n",
       "      <th>title</th>\n",
       "    </tr>\n",
       "  </thead>\n",
       "  <tbody>\n",
       "    <tr>\n",
       "      <th>16</th>\n",
       "      <td>AB 1906</td>\n",
       "      <td>2012-02-24 02:06:18</td>\n",
       "      <td>CAB00008585</td>\n",
       "      <td>market-based compliance mechanisms</td>\n",
       "      <td>20112012</td>\n",
       "      <td>ca</td>\n",
       "      <td>California Global Warming Solutions Act of 200...</td>\n",
       "    </tr>\n",
       "    <tr>\n",
       "      <th>17</th>\n",
       "      <td>SB 864</td>\n",
       "      <td>2011-03-24 20:45:17</td>\n",
       "      <td>CAB00006137</td>\n",
       "      <td>market-based compliance mechanisms</td>\n",
       "      <td>20112012</td>\n",
       "      <td>ca</td>\n",
       "      <td>Emissions of greenhouse gases: market-based co...</td>\n",
       "    </tr>\n",
       "    <tr>\n",
       "      <th>0</th>\n",
       "      <td>SB 13-001</td>\n",
       "      <td>2013-01-10 00:10:21</td>\n",
       "      <td>COB00001394</td>\n",
       "      <td>Colorado Working Families Economic Opportunity...</td>\n",
       "      <td>2013A</td>\n",
       "      <td>co</td>\n",
       "      <td>Colorado Working Families Economic Opportunity...</td>\n",
       "    </tr>\n",
       "  </tbody>\n",
       "</table>\n",
       "</div>"
      ],
      "text/plain": [
       "      bill_id          created_at           id  \\\n",
       "16    AB 1906 2012-02-24 02:06:18  CAB00008585   \n",
       "17     SB 864 2011-03-24 20:45:17  CAB00006137   \n",
       "0   SB 13-001 2013-01-10 00:10:21  COB00001394   \n",
       "\n",
       "                                                query   session state  \\\n",
       "16                 market-based compliance mechanisms  20112012    ca   \n",
       "17                 market-based compliance mechanisms  20112012    ca   \n",
       "0   Colorado Working Families Economic Opportunity...     2013A    co   \n",
       "\n",
       "                                                title  \n",
       "16  California Global Warming Solutions Act of 200...  \n",
       "17  Emissions of greenhouse gases: market-based co...  \n",
       "0   Colorado Working Families Economic Opportunity...  "
      ]
     },
     "execution_count": 9,
     "metadata": {},
     "output_type": "execute_result"
    }
   ],
   "source": [
    "bills.tail(3)"
   ]
  },
  {
   "cell_type": "markdown",
   "metadata": {},
   "source": [
    "Deduplicate bills with multiple search queries."
   ]
  },
  {
   "cell_type": "code",
   "execution_count": 10,
   "metadata": {},
   "outputs": [],
   "source": [
    "dedup = pd.DataFrame({'queries' : bills.groupby(bill_fields).query.apply(\n",
    "    lambda x: \"{%s}\" % ', '.join(x))}).reset_index()"
   ]
  },
  {
   "cell_type": "code",
   "execution_count": 11,
   "metadata": {},
   "outputs": [
    {
     "data": {
      "text/html": [
       "<div>\n",
       "<style scoped>\n",
       "    .dataframe tbody tr th:only-of-type {\n",
       "        vertical-align: middle;\n",
       "    }\n",
       "\n",
       "    .dataframe tbody tr th {\n",
       "        vertical-align: top;\n",
       "    }\n",
       "\n",
       "    .dataframe thead th {\n",
       "        text-align: right;\n",
       "    }\n",
       "</style>\n",
       "<table border=\"1\" class=\"dataframe\">\n",
       "  <thead>\n",
       "    <tr style=\"text-align: right;\">\n",
       "      <th></th>\n",
       "      <th>queries</th>\n",
       "      <th>0</th>\n",
       "    </tr>\n",
       "  </thead>\n",
       "  <tbody>\n",
       "    <tr>\n",
       "      <th>8</th>\n",
       "      <td>{earned income tax credit}</td>\n",
       "      <td>362</td>\n",
       "    </tr>\n",
       "    <tr>\n",
       "      <th>6</th>\n",
       "      <td>{earned income credit}</td>\n",
       "      <td>97</td>\n",
       "    </tr>\n",
       "    <tr>\n",
       "      <th>4</th>\n",
       "      <td>{ctc}</td>\n",
       "      <td>25</td>\n",
       "    </tr>\n",
       "    <tr>\n",
       "      <th>9</th>\n",
       "      <td>{eitc}</td>\n",
       "      <td>18</td>\n",
       "    </tr>\n",
       "    <tr>\n",
       "      <th>10</th>\n",
       "      <td>{market-based compliance mechanisms}</td>\n",
       "      <td>18</td>\n",
       "    </tr>\n",
       "    <tr>\n",
       "      <th>3</th>\n",
       "      <td>{child tax credit}</td>\n",
       "      <td>13</td>\n",
       "    </tr>\n",
       "    <tr>\n",
       "      <th>5</th>\n",
       "      <td>{earned income credit, earned income tax credit}</td>\n",
       "      <td>9</td>\n",
       "    </tr>\n",
       "    <tr>\n",
       "      <th>0</th>\n",
       "      <td>{Basic Economic Security}</td>\n",
       "      <td>2</td>\n",
       "    </tr>\n",
       "    <tr>\n",
       "      <th>7</th>\n",
       "      <td>{earned income tax credit, eitc}</td>\n",
       "      <td>2</td>\n",
       "    </tr>\n",
       "    <tr>\n",
       "      <th>1</th>\n",
       "      <td>{Colorado Working Families Economic Opportunit...</td>\n",
       "      <td>1</td>\n",
       "    </tr>\n",
       "    <tr>\n",
       "      <th>2</th>\n",
       "      <td>{basic income}</td>\n",
       "      <td>1</td>\n",
       "    </tr>\n",
       "  </tbody>\n",
       "</table>\n",
       "</div>"
      ],
      "text/plain": [
       "                                              queries    0\n",
       "8                          {earned income tax credit}  362\n",
       "6                              {earned income credit}   97\n",
       "4                                               {ctc}   25\n",
       "9                                              {eitc}   18\n",
       "10               {market-based compliance mechanisms}   18\n",
       "3                                  {child tax credit}   13\n",
       "5    {earned income credit, earned income tax credit}    9\n",
       "0                           {Basic Economic Security}    2\n",
       "7                    {earned income tax credit, eitc}    2\n",
       "1   {Colorado Working Families Economic Opportunit...    1\n",
       "2                                      {basic income}    1"
      ]
     },
     "execution_count": 11,
     "metadata": {},
     "output_type": "execute_result"
    }
   ],
   "source": [
    "pd.DataFrame(dedup.groupby('queries').size()).reset_index().sort_values(\n",
    "    0, ascending=False)"
   ]
  },
  {
   "cell_type": "markdown",
   "metadata": {},
   "source": [
    "Strip timestamp from `created_at` for better exporting to Sheets (via Bigquery)."
   ]
  },
  {
   "cell_type": "code",
   "execution_count": 12,
   "metadata": {},
   "outputs": [],
   "source": [
    "dedup['created_at'] = dedup.created_at.dt.strftime('%Y-%m-%d')"
   ]
  },
  {
   "cell_type": "markdown",
   "metadata": {},
   "source": [
    "Add openstates URL"
   ]
  },
  {
   "cell_type": "code",
   "execution_count": 13,
   "metadata": {},
   "outputs": [],
   "source": [
    "dedup['openstates_url'] = ('https://openstates.org/' + dedup.state + \n",
    "                           '/bills/' + dedup.session + '/' + dedup.bill_id)"
   ]
  },
  {
   "cell_type": "markdown",
   "metadata": {},
   "source": [
    "## Export to CSV\n",
    "\n",
    "TODO: To Sheets directly."
   ]
  },
  {
   "cell_type": "code",
   "execution_count": 14,
   "metadata": {},
   "outputs": [],
   "source": [
    "dedup.to_csv('~/dedup.csv')\n",
    "sponsorships.to_csv('~/sponsorships.csv')"
   ]
  }
 ],
 "metadata": {
  "kernelspec": {
   "display_name": "Python 3",
   "language": "python",
   "name": "python3"
  },
  "language_info": {
   "codemirror_mode": {
    "name": "ipython",
    "version": 3
   },
   "file_extension": ".py",
   "mimetype": "text/x-python",
   "name": "python",
   "nbconvert_exporter": "python",
   "pygments_lexer": "ipython3",
   "version": "3.6.5"
  },
  "toc": {
   "base_numbering": 1,
   "nav_menu": {},
   "number_sections": true,
   "sideBar": true,
   "skip_h1_title": false,
   "title_cell": "Table of Contents",
   "title_sidebar": "Contents",
   "toc_cell": false,
   "toc_position": {},
   "toc_section_display": true,
   "toc_window_display": false
  }
 },
 "nbformat": 4,
 "nbformat_minor": 2
}
